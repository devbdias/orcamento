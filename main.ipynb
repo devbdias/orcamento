{
 "cells": [
  {
   "cell_type": "code",
   "execution_count": null,
   "metadata": {},
   "outputs": [],
   "source": [
    "#!pip install sqlalchemy"
   ]
  },
  {
   "cell_type": "code",
   "execution_count": null,
   "metadata": {},
   "outputs": [],
   "source": [
    "from src.scripts.auth import *\n",
    "from src.scripts.consultas import *\n",
    "from sqlalchemy import create_engine\n",
    "import datetime as dt\n",
    "import pandas as pd\n",
    "import numpy as np\n",
    "import os\n",
    "import re"
   ]
  },
  {
   "cell_type": "code",
   "execution_count": null,
   "metadata": {},
   "outputs": [],
   "source": [
    "import logging\n",
    "\n",
    "logging.basicConfig(filename='execution_log.log', level=logging.INFO, format='%(asctime)s - %(levelname)s - %(message)s')"
   ]
  },
  {
   "cell_type": "code",
   "execution_count": null,
   "metadata": {},
   "outputs": [],
   "source": [
    "def limpa_parquet(path):\n",
    "    try:\n",
    "        arquivos_parquet = [arquivo for arquivo in os.listdir(path) if arquivo.endswith('.parquet')]\n",
    "        for arquivo in arquivos_parquet:\n",
    "            os.remove(os.path.join(path, arquivo))\n",
    "    except Exception as e:\n",
    "        print(f\"Erro ao limpar os arquivos Parquet em {path}: {e}\")\n"
   ]
  },
  {
   "cell_type": "code",
   "execution_count": null,
   "metadata": {},
   "outputs": [],
   "source": [
    "def limpa_log(path_log):\n",
    "    try:\n",
    "        with open(path_log, 'wb') as log_file:\n",
    "            log_file.truncate(0)\n",
    "    except Exception as e:\n",
    "        print(f\"Erro ao limpar o log em {path_log}: {e}\")"
   ]
  },
  {
   "cell_type": "code",
   "execution_count": null,
   "metadata": {},
   "outputs": [],
   "source": [
    "def conectar_banco_dados(server, database, username, password):\n",
    "    try:\n",
    "        conn_str = f'mssql+pyodbc://{username}:{password}@{server}/{database}?driver=ODBC+Driver+17+for+SQL+Server'\n",
    "        engine = create_engine(conn_str)\n",
    "        return engine\n",
    "    except Exception as e:\n",
    "        print(\"Erro ao conectar-se ao banco de dados:\", e)\n",
    "        return None"
   ]
  },
  {
   "cell_type": "code",
   "execution_count": null,
   "metadata": {},
   "outputs": [],
   "source": [
    "def executar_consulta(engine, sql_query):\n",
    "    try:\n",
    "        df = pd.read_sql_query(sql_query, engine)\n",
    "        return df\n",
    "    except Exception as e:\n",
    "        print(\"Erro ao executar a consulta:\", e)\n",
    "        return None"
   ]
  },
  {
   "cell_type": "code",
   "execution_count": null,
   "metadata": {},
   "outputs": [],
   "source": [
    "def definir_consulta():\n",
    "    try:\n",
    "        consultas = [dim_unidade, dim_supervisor, dim_vendedor, dim_cliente, dim_produto, fato_vendas, fato_volume_orcado, fato_churn, ]\n",
    "        return consultas\n",
    "    except Exception as e:\n",
    "        print(\"Erro ao executar consultas:\", e)"
   ]
  },
  {
   "cell_type": "code",
   "execution_count": null,
   "metadata": {},
   "outputs": [],
   "source": [
    "def trata_linha(engine, consulta, path):\n",
    "    try:\n",
    "        if engine:\n",
    "            df = executar_consulta(engine, consulta)\n",
    "            if df is not None:\n",
    "                if consulta == fato_vendas:\n",
    "                    mask = df['LINHA'] == 'REVENDA'\n",
    "                    df.loc[mask, 'FAMILIA'] = 'REVENDA'\n",
    "                    df.drop_duplicates(inplace=True)\n",
    "                    df.to_parquet(fr'{path}\\7 FATO VENDAS.parquet', index=False)\n",
    "                elif consulta == dim_unidade:\n",
    "                    df.drop_duplicates(inplace=True)\n",
    "                    df.to_parquet(fr'{path}\\1 DIM UNIDADE.parquet', index=False)\n",
    "                elif consulta == dim_supervisor:\n",
    "                    df.drop_duplicates(inplace=True)\n",
    "                    df.to_parquet(fr'{path}\\2 DIM SUPERVISOR.parquet', index=False)\n",
    "                elif consulta == dim_vendedor:\n",
    "                    df.drop_duplicates(inplace=True)\n",
    "                    df.to_parquet(fr'{path}\\3 DIM VENDEDOR.parquet', index=False)\n",
    "                elif consulta == dim_cliente:\n",
    "                    df.drop_duplicates(inplace=True)\n",
    "                    df.to_parquet(fr'{path}\\4 DIM CLIENTE.parquet', index=False)\n",
    "                elif consulta == dim_produto:\n",
    "                    df.drop_duplicates(inplace=True)\n",
    "                    df.to_parquet(fr'{path}\\5 DIM PRODUTO.parquet', index=False)\n",
    "                elif consulta == fato_volume_orcado:\n",
    "                    df['BUDGET VOLUME'] = df.apply(lambda row: row['BUDGET VOLUME'] * (0.2 / 0.33) if row['FAMILIA'] == 'FERMENTO LIQUIDO' else row['BUDGET VOLUME'], axis=1)\n",
    "                    df['BUDGET VOLUME'] = df.apply(lambda row: row['BUDGET VOLUME'] * 3 if row['FAMILIA'] in ['LEVEDURA SECA', 'FI 10G', 'FI 500G'] else row['BUDGET VOLUME'], axis=1)\n",
    "                    #df['BUDGET OBJETIVO'] = df.apply(lambda row: row['BUDGET OBJETIVO'] * (0.2 / 0.33) if row['FAMILIA'] == 'FERMENTO LIQUIDO' else row['BUDGET OBJETIVO'], axis=1)\n",
    "                    #df['BUDGET OBJETIVO'] = df.apply(lambda row: row['BUDGET OBJETIVO'] * 3 if row['FAMILIA'] in ['LEVEDURA SECA', 'FI 10G', 'FI 500G'] else row['BUDGET OBJETIVO'], axis=1)\n",
    "                    #df['BUDGET CAMPANHA'] = df.apply(lambda row: row['BUDGET CAMPANHA'] * (0.2 / 0.33) if row['FAMILIA'] == 'FERMENTO LIQUIDO' else row['BUDGET CAMPANHA'], axis=1)\n",
    "                    #df['BUDGET CAMPANHA'] = df.apply(lambda row: row['BUDGET CAMPANHA'] * 3 if row['FAMILIA'] in ['LEVEDURA SECA', 'FI 10G', 'FI 500G'] else row['BUDGET CAMPANHA'], axis=1)\n",
    "                    \n",
    "                    df.drop_duplicates(inplace=True)\n",
    "                    df.to_parquet(fr'{path}\\8 FATO VOLUME ORCADO.parquet', index=False)\n",
    "                elif consulta == fato_churn:\n",
    "                    df.drop_duplicates(inplace=True)\n",
    "                    df.to_parquet(fr'{path}\\9 FATO CHURN.parquet', index=False)\n",
    "                else:\n",
    "                    pass\n",
    "                engine.dispose()\n",
    "    except Exception as e:\n",
    "        print(\"Erro ao tratar linha:\", e)"
   ]
  },
  {
   "cell_type": "code",
   "execution_count": null,
   "metadata": {},
   "outputs": [],
   "source": [
    "def criar_dimensao_calendario(data_inicio, data_fim, path_exportacao):\n",
    "    try:\n",
    "        periodo_datas = pd.date_range(data_inicio, data_fim)\n",
    "        dim_calendario = pd.DataFrame()\n",
    "\n",
    "        dim_calendario['data'] = periodo_datas\n",
    "        dim_calendario['ano'] = dim_calendario['data'].dt.year\n",
    "        dim_calendario['mes'] = dim_calendario['data'].dt.month\n",
    "        dim_calendario['dia'] = dim_calendario['data'].dt.day\n",
    "        dim_calendario['semana_do_ano'] = dim_calendario['data'].dt.isocalendar().week\n",
    "        dim_calendario['dia_da_semana'] = dim_calendario['data'].dt.dayofweek\n",
    "        dim_calendario['nome_dia_da_semana'] = dim_calendario['data'].dt.day_name()\n",
    "        dim_calendario['nome_do_mes'] = dim_calendario['data'].dt.month_name()\n",
    "        dim_calendario['trimestre'] = dim_calendario['data'].dt.quarter\n",
    "        dim_calendario['ano_mes'] = dim_calendario['data'].dt.strftime('%Y%m')\n",
    "        dim_calendario.to_parquet(path_exportacao, index=False)\n",
    "    except Exception as e:\n",
    "        print(\"Erro ao criar a dimensão de calendário:\", e)"
   ]
  },
  {
   "cell_type": "code",
   "execution_count": null,
   "metadata": {},
   "outputs": [],
   "source": [
    "def main():\n",
    "    try:\n",
    "        \n",
    "        data_path = os.path.join( \"src\", \"data\", \"ready\")\n",
    "        log_dir   = os.path.join( \"src\", \"logs\")\n",
    "        \n",
    "        os.makedirs(data_path, exist_ok=True)\n",
    "        os.makedirs(log_dir, exist_ok=True)\n",
    "\n",
    "        log_path = os.path.join(log_dir, \"execution_log.log\")\n",
    "\n",
    "        # Configuração do logger\n",
    "        logging.basicConfig(filename=log_path, level=logging.INFO, format=\"%(asctime)s - %(levelname)s - %(message)s\")\n",
    "\n",
    "        engine = conectar_banco_dados(server, database, username, password)\n",
    "        if engine is not None:\n",
    "\n",
    "            limpa_log(log_path)\n",
    "            limpa_parquet(data_path)\n",
    "\n",
    "            hoje = dt.datetime.today()\n",
    "            ano_atual = hoje.year\n",
    "            ultimo_dia_do_ano = dt.datetime(ano_atual, 12, 31)\n",
    "            criar_dimensao_calendario('2022-01-01', f'{ultimo_dia_do_ano}', os.path.join(data_path, '6 DIM CALENDARIO.parquet'))\n",
    "            consultas = definir_consulta()\n",
    "\n",
    "            with open(log_path, 'r') as log_file:\n",
    "                logged_lines = log_file.readlines()\n",
    "                if logged_lines:\n",
    "                    last_line = logged_lines[-1]\n",
    "                    if \"Erro ao executar a main\" in last_line:\n",
    "                        last_successful_index = consultas.index(last_line.split(':')[1].strip())\n",
    "                        consultas = consultas[last_successful_index + 1:]\n",
    "                        logging.info(\"\\nReiniciando a partir da última consulta bem-sucedida: %s\", consultas[0])\n",
    "\n",
    "            for consulta in consultas:\n",
    "                trata_linha(engine, consulta, data_path)\n",
    "                logging.info(\"\\nConsulta %s concluída com sucesso.\", consulta)\n",
    "            logging.info(\"\\nExecução concluída com sucesso.\")\n",
    "                        \n",
    "    except Exception as e:\n",
    "        logging.error(\"Erro ao executar a main: %s\", e)\n"
   ]
  },
  {
   "cell_type": "code",
   "execution_count": null,
   "metadata": {},
   "outputs": [],
   "source": [
    "if __name__ == \"__main__\":\n",
    "    main()"
   ]
  }
 ],
 "metadata": {
  "kernelspec": {
   "display_name": "base",
   "language": "python",
   "name": "python3"
  },
  "language_info": {
   "codemirror_mode": {
    "name": "ipython",
    "version": 3
   },
   "file_extension": ".py",
   "mimetype": "text/x-python",
   "name": "python",
   "nbconvert_exporter": "python",
   "pygments_lexer": "ipython3",
   "version": "3.12.2"
  }
 },
 "nbformat": 4,
 "nbformat_minor": 2
}
